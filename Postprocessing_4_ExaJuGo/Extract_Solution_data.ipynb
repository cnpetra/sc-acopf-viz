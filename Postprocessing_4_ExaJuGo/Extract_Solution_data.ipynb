{
 "cells": [
  {
   "cell_type": "markdown",
   "metadata": {},
   "source": [
    "# Example of how to extract the solution information from the output directory of ExaJuGo"
   ]
  },
  {
   "cell_type": "code",
   "execution_count": 1,
   "metadata": {},
   "outputs": [],
   "source": [
    "from parse_data import *"
   ]
  },
  {
   "cell_type": "markdown",
   "metadata": {},
   "source": [
    "## The data from the basecase"
   ]
  },
  {
   "cell_type": "code",
   "execution_count": 2,
   "metadata": {},
   "outputs": [],
   "source": [
    "# The path to basecase solution\n",
    "SCACOPF_basecase_solution_path = \"./data-scacopf/Eaton/example_scacopf_solution/solution1.txt\"\n",
    "\n",
    "# Extracting basecase solution\n",
    "SCACOPF_basecase_solution = parse_solution1(SCACOPF_basecase_solution_path)"
   ]
  },
  {
   "cell_type": "code",
   "execution_count": 13,
   "metadata": {},
   "outputs": [
    {
     "name": "stdout",
     "output_type": "stream",
     "text": [
      "The keys for the basecase solution: \n",
      "dict_keys(['bus', 'generator'])\n",
      "\n",
      "The keys for the basecase buses solution: \n",
      "dict_keys(['i', 'v', 'theta', 'bcs'])\n",
      "\n",
      "The keys for the basecase generator solution: \n",
      "dict_keys(['i', 'id', 'p', 'q'])\n"
     ]
    }
   ],
   "source": [
    "print(\"The keys for the basecase solution: \\n\" + str(SCACOPF_basecase_solution.keys()) + \"\\n\")\n",
    "print(\"The keys for the basecase buses solution: \\n\" + str(SCACOPF_basecase_solution['bus'].keys()) + \"\\n\")\n",
    "print(\"The keys for the basecase generator solution: \\n\" + str(SCACOPF_basecase_solution['generator'].keys()))"
   ]
  },
  {
   "cell_type": "markdown",
   "metadata": {},
   "source": [
    "## Data from the contingencies"
   ]
  },
  {
   "cell_type": "code",
   "execution_count": 4,
   "metadata": {},
   "outputs": [],
   "source": [
    "# The path to contingency solution\n",
    "SCACOPF_contingency_solution_path = \"./data-scacopf/Eaton/example_scacopf_solution/solution2.txt\"\n",
    "\n",
    "# Extracting contingency solutions\n",
    "SCACOPF_contingency_solution = parse_solution2(SCACOPF_contingency_solution_path)"
   ]
  },
  {
   "cell_type": "code",
   "execution_count": 14,
   "metadata": {},
   "outputs": [
    {
     "name": "stdout",
     "output_type": "stream",
     "text": [
      "Number of contingencies solutions: 1\n",
      "\n",
      "The First contingency label: \n",
      "Percentile_50_SD_2\n",
      "\n",
      "The keys for the contingency solution: \n",
      "dict_keys(['label', 'bus', 'generator'])\n",
      "\n",
      "The keys for the contingency buses solution: \n",
      "dict_keys(['i', 'v', 'theta', 'bcs'])\n",
      "\n",
      "The keys for the contingency generator solution: \n",
      "dict_keys(['i', 'id', 'p', 'q'])\n"
     ]
    }
   ],
   "source": [
    "print(\"Number of contingencies solutions: \" + str(len(SCACOPF_contingency_solution)) + \"\\n\")\n",
    "print(\"The First contingency label: \\n\" + str(SCACOPF_contingency_solution[0][\"label\"]) + \"\\n\")\n",
    "print(\"The keys for the contingency solution: \\n\" + str(SCACOPF_contingency_solution[0].keys()) + \"\\n\")\n",
    "print(\"The keys for the contingency buses solution: \\n\" + str(SCACOPF_contingency_solution[0]['bus'].keys()) + \"\\n\")\n",
    "print(\"The keys for the contingency generator solution: \\n\" + str(SCACOPF_contingency_solution[0]['generator'].keys()))"
   ]
  },
  {
   "cell_type": "code",
   "execution_count": null,
   "metadata": {},
   "outputs": [],
   "source": []
  }
 ],
 "metadata": {
  "kernelspec": {
   "display_name": "Python 3",
   "language": "python",
   "name": "python3"
  },
  "language_info": {
   "codemirror_mode": {
    "name": "ipython",
    "version": 3
   },
   "file_extension": ".py",
   "mimetype": "text/x-python",
   "name": "python",
   "nbconvert_exporter": "python",
   "pygments_lexer": "ipython3",
   "version": "3.12.8"
  },
  "orig_nbformat": 4
 },
 "nbformat": 4,
 "nbformat_minor": 2
}
